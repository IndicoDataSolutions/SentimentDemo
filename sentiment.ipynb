{
 "metadata": {
  "name": "sentiment",
  "signature": "sha256:89a3fdc22ba1c25d2a76ae927d60537bb2992d5d0a05083476702ae7be5b84d7"
 },
 "nbformat": 3,
 "nbformat_minor": 0,
 "worksheets": [
  {
   "cells": [
    {
     "cell_type": "markdown",
     "metadata": {},
     "source": "Sentiment Analysis of Jack London's \"The Call of The Wild\"\n================================\n\nAnalysis by: Perry Grossman ([perrygrossman2008@gmail.com](mailto:perrygrossman2008@gmail.com)) using the Indico Sentiment API\n\nBook Source from Project Gutenberg:\nhttp://www.gutenberg.org/files/215/215-h/215-h.htm\n"
    },
    {
     "cell_type": "markdown",
     "metadata": {},
     "source": "**Resources:** <br>\nSee http://indico.readme.io/v1.0/docs/python for information on the Indico APIs.\n<br>\nLower scores (< .5) correspond to negative sentiment, while higher scores (> 0.5) correspond to positive sentiment."
    },
    {
     "cell_type": "markdown",
     "metadata": {},
     "source": "Using the Indico Sentiment API\n======"
    },
    {
     "cell_type": "markdown",
     "metadata": {},
     "source": "You should have Python Installed. If you don't have it you can get it here:\nhttps://www.python.org/\n<br>I use Anaconda, which includes a number of extra libraries:\nhttps://store.continuum.io/cshop/anaconda/"
    },
    {
     "cell_type": "markdown",
     "metadata": {},
     "source": "Install the Indicoio public API, if it is not already installed, with `pip install indicoio`."
    },
    {
     "cell_type": "code",
     "collapsed": false,
     "input": "# Import the indicoio module:\nimport indicoio\n\n# Import other python modules for data analysis and visualization\n%matplotlib inline\nimport numpy as np\nimport matplotlib.pyplot as plt\n",
     "language": "python",
     "metadata": {},
     "outputs": [],
     "prompt_number": 1
    },
    {
     "cell_type": "code",
     "collapsed": false,
     "input": "# This is an example of how the batch API works on three different words\nindicoio.batch_sentiment([\"Happy\", \"Terrible\", \"Wonderful\"])",
     "language": "python",
     "metadata": {},
     "outputs": [
      {
       "metadata": {},
       "output_type": "pyout",
       "prompt_number": 2,
       "text": "[0.9990904794614555, -0.42808830463530156, 1.0771981912553676]"
      }
     ],
     "prompt_number": 2
    },
    {
     "cell_type": "markdown",
     "metadata": {},
     "source": "**Opening the file**\n<br>Now we open the text from \"The Call of the Wild.\"<br>\n(in a text editor I already trimmed the header and footer information.)"
    },
    {
     "cell_type": "code",
     "collapsed": false,
     "input": "text_file = open(\"call_of_the_wild.txt\",\"r\")\nchunks = text_file.read().split()\ntext_file.close()",
     "language": "python",
     "metadata": {},
     "outputs": [],
     "prompt_number": 3
    },
    {
     "cell_type": "code",
     "collapsed": false,
     "input": "s = len(chunks)\nprint \"There are %s words in the file.\" %s",
     "language": "python",
     "metadata": {},
     "outputs": [
      {
       "output_type": "stream",
       "stream": "stdout",
       "text": "There are 31765 words in the file.\n"
      }
     ],
     "prompt_number": 4
    },
    {
     "cell_type": "code",
     "collapsed": false,
     "input": "# We then slice the chunks to send to indico's sentiment API:\ndef chunker(seq, size):\n      return (seq[pos:pos + size] for pos in xrange(0, len(seq), 1))\n\n# Split the data up into 30,000+ chunks of 100 words each\ndata = [\" \".join(group) for group in chunker(chunks, 100)]\n\n# Sending off data for remote processing\nsentiment_scores = indicoio.batch_sentiment(data)\n",
     "language": "python",
     "metadata": {},
     "outputs": [],
     "prompt_number": 5
    },
    {
     "cell_type": "heading",
     "level": 3,
     "metadata": {},
     "source": "Now we chart the results"
    },
    {
     "cell_type": "code",
     "collapsed": false,
     "input": "# Chart sentiment scores\n \n# Conversion to numpy arrays\nx = np.arange(len(data))\ny = np.array(sentiment_scores)   \n\n# Plotting and formatting\nplt.scatter(x,y)\nplt.ylim(ymax = 1.0, ymin = 0.0)\nplt.xlim(xmax = 325, xmin = -1.0)\nplt.title('Change In Sentiment Through \"The Call of The Wild\"', weight='bold')\nplt.savefig('sentiment_scores.png')",
     "language": "python",
     "metadata": {},
     "outputs": [
      {
       "metadata": {},
       "output_type": "display_data",
       "png": "[encoded data removed]",
       "text": "<matplotlib.figure.Figure at 0x7f172e3ccb90>"
      }
     ],
     "prompt_number": 6
    }
   ],
   "metadata": {}
  }
 ]
}